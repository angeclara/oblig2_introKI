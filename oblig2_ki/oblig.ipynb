{
 "cells": [
  {
   "cell_type": "markdown",
   "id": "e7e7f722",
   "metadata": {},
   "source": [
    "What algorithm we chose and why?    we chose to work with simple linear regression since we want to use a single input variable x: \"Dato\" and get an output of the number of passengers (y) of one specific bus line at a specific time. "
   ]
  }
 ],
 "metadata": {
  "kernelspec": {
   "display_name": "Python 3",
   "language": "python",
   "name": "python3"
  },
  "language_info": {
   "codemirror_mode": {
    "name": "ipython",
    "version": 2
   },
   "file_extension": ".py",
   "mimetype": "text/x-python",
   "name": "python",
   "nbconvert_exporter": "python",
   "pygments_lexer": "ipython2",
   "version": "2.7.6"
  }
 },
 "nbformat": 4,
 "nbformat_minor": 5
}
