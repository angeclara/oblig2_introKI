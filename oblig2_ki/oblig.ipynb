{
 "cells": [
  {
   "cell_type": "code",
   "execution_count": 14,
   "id": "initial_id",
   "metadata": {
    "collapsed": true,
    "ExecuteTime": {
     "end_time": "2025-10-15T11:58:03.259750Z",
     "start_time": "2025-10-15T11:58:02.282677Z"
    }
   },
   "outputs": [
    {
     "name": "stdout",
     "output_type": "stream",
     "text": [
      "TurId                                            0\n",
      "Dato                                             0\n",
      "Fylke                                            0\n",
      "Område                                           0\n",
      "Kommune                                          0\n",
      "Holdeplass_Fra                                   0\n",
      "Holdeplass_Til                                   0\n",
      "Linjetype                                        0\n",
      "Linjefylke                                       0\n",
      "Linjenavn                                        0\n",
      "Linjeretning                                     0\n",
      "Tidspunkt_Faktisk_Ankomst_Holdeplass_Fra         0\n",
      "Tidspunkt_Faktisk_Avgang_Holdeplass_Fra      11998\n",
      "Tidspunkt_Planlagt_Ankomst_Holdeplass_Fra    11998\n",
      "Tidspunkt_Planlagt_Avgang_Holdeplass_Fra     11998\n",
      "Kjøretøy_Kapasitet                           11998\n",
      "Passasjerer_Ombord                           11998\n",
      "dtype: int64\n"
     ]
    }
   ],
   "source": [
    "# Import modules\n",
    "%matplotlib inline\n",
    "import pandas as pd\n",
    "import numpy as np\n",
    "import matplotlib.pyplot as plt\n",
    "import seaborn as sns\n",
    "\n",
    "# Import modules for machine learning\n",
    "from sklearn.model_selection import train_test_split\n",
    "from sklearn.linear_model import LogisticRegression\n",
    "from sklearn.feature_selection import RFE\n",
    "from sklearn.metrics import confusion_matrix\n",
    "\n",
    "df = pd.read_csv('Ruter_data.csv', delimiter=';', on_bad_lines='skip')\n",
    "print(df.isna().sum()) # checking null values\n"
   ]
  },
  {
   "cell_type": "code",
   "outputs": [],
   "source": [
    "# we will now investigate nan values\n"
   ],
   "metadata": {
    "collapsed": false,
    "ExecuteTime": {
     "end_time": "2025-10-15T11:51:44.772671Z",
     "start_time": "2025-10-15T11:51:44.755388Z"
    }
   },
   "id": "6c11daa940dd5ef3",
   "execution_count": null
  },
  {
   "cell_type": "code",
   "outputs": [],
   "source": [],
   "metadata": {
    "collapsed": false,
    "ExecuteTime": {
     "start_time": "2025-10-15T11:51:44.783976Z"
    }
   },
   "id": "20e01aabd41d42b8"
  }
 ],
 "metadata": {
  "kernelspec": {
   "display_name": "Python 3",
   "language": "python",
   "name": "python3"
  },
  "language_info": {
   "codemirror_mode": {
    "name": "ipython",
    "version": 2
   },
   "file_extension": ".py",
   "mimetype": "text/x-python",
   "name": "python",
   "nbconvert_exporter": "python",
   "pygments_lexer": "ipython2",
   "version": "2.7.6"
  }
 },
 "nbformat": 4,
 "nbformat_minor": 5
}
