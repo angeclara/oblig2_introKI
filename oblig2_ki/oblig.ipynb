{
 "cells": [
  {
   "cell_type": "code",
   "execution_count": 10,
   "id": "initial_id",
   "metadata": {
    "collapsed": true,
    "ExecuteTime": {
     "end_time": "2025-10-15T11:20:27.576252Z",
     "start_time": "2025-10-15T11:20:27.348857Z"
    }
   },
   "outputs": [
    {
     "data": {
      "text/plain": "  TurId;Dato;Fylke;Område;Kommune;Holdeplass_Fra;Holdeplass_Til;Linjetype;Linjefylke;Linjenavn;Linjeretning;Tidspunkt_Faktisk_Ankomst_Holdeplass_Fra;Tidspunkt_Faktisk_Avgang_Holdeplass_Fra;Tidspunkt_Planlagt_Ankomst_Holdeplass_Fra;Tidspunkt_Planlagt_Avgang_Holdeplass_Fra;Kjøretøy_Kapasitet;Passasjerer_Ombord\n0  15006-2020-08-10T10:24:00+02:00;10/08/2020;Vik...                                                                                                                                                                                                                                                                 \n1  15002-2020-08-15T12:54:00+02:00;15/08/2020;Vik...                                                                                                                                                                                                                                                                 \n2  15004-2020-08-03T09:54:00+02:00;03/08/2020;Vik...                                                                                                                                                                                                                                                                 \n3  15003-2020-07-27T13:00:00+02:00;27/07/2020;Vik...                                                                                                                                                                                                                                                                 \n4  15002-2020-08-27T07:15:00+02:00;27/08/2020;Vik...                                                                                                                                                                                                                                                                 ",
      "text/html": "<div>\n<style scoped>\n    .dataframe tbody tr th:only-of-type {\n        vertical-align: middle;\n    }\n\n    .dataframe tbody tr th {\n        vertical-align: top;\n    }\n\n    .dataframe thead th {\n        text-align: right;\n    }\n</style>\n<table border=\"1\" class=\"dataframe\">\n  <thead>\n    <tr style=\"text-align: right;\">\n      <th></th>\n      <th>TurId;Dato;Fylke;Område;Kommune;Holdeplass_Fra;Holdeplass_Til;Linjetype;Linjefylke;Linjenavn;Linjeretning;Tidspunkt_Faktisk_Ankomst_Holdeplass_Fra;Tidspunkt_Faktisk_Avgang_Holdeplass_Fra;Tidspunkt_Planlagt_Ankomst_Holdeplass_Fra;Tidspunkt_Planlagt_Avgang_Holdeplass_Fra;Kjøretøy_Kapasitet;Passasjerer_Ombord</th>\n    </tr>\n  </thead>\n  <tbody>\n    <tr>\n      <th>0</th>\n      <td>15006-2020-08-10T10:24:00+02:00;10/08/2020;Vik...</td>\n    </tr>\n    <tr>\n      <th>1</th>\n      <td>15002-2020-08-15T12:54:00+02:00;15/08/2020;Vik...</td>\n    </tr>\n    <tr>\n      <th>2</th>\n      <td>15004-2020-08-03T09:54:00+02:00;03/08/2020;Vik...</td>\n    </tr>\n    <tr>\n      <th>3</th>\n      <td>15003-2020-07-27T13:00:00+02:00;27/07/2020;Vik...</td>\n    </tr>\n    <tr>\n      <th>4</th>\n      <td>15002-2020-08-27T07:15:00+02:00;27/08/2020;Vik...</td>\n    </tr>\n  </tbody>\n</table>\n</div>"
     },
     "execution_count": 10,
     "metadata": {},
     "output_type": "execute_result"
    }
   ],
   "source": [
    "# Import modules\n",
    "%matplotlib inline\n",
    "import pandas as pd\n",
    "import numpy as np\n",
    "import matplotlib.pyplot as plt\n",
    "import seaborn as sns\n",
    "\n",
    "# Import modules for machine learning\n",
    "from sklearn.model_selection import train_test_split\n",
    "from sklearn.linear_model import LogisticRegression\n",
    "from sklearn.feature_selection import RFE\n",
    "from sklearn.metrics import confusion_matrix\n",
    "\n",
    "df = pd.read_csv('Ruter_data.csv', on_bad_lines='skip')\n",
    "df.head()\n"
   ]
  },
  {
   "cell_type": "code",
   "outputs": [],
   "source": [],
   "metadata": {
    "collapsed": false,
    "ExecuteTime": {
     "end_time": "2025-10-15T11:20:07.277011Z",
     "start_time": "2025-10-15T11:20:07.268508Z"
    }
   },
   "id": "6d7c78d76453228b",
   "execution_count": 8
  },
  {
   "cell_type": "code",
   "outputs": [],
   "source": [],
   "metadata": {
    "collapsed": false,
    "ExecuteTime": {
     "start_time": "2025-10-15T11:10:57.522352Z"
    }
   },
   "id": "34edd3dc3d7177b8"
  }
 ],
 "metadata": {
  "kernelspec": {
   "display_name": "Python 3",
   "language": "python",
   "name": "python3"
  },
  "language_info": {
   "codemirror_mode": {
    "name": "ipython",
    "version": 2
   },
   "file_extension": ".py",
   "mimetype": "text/x-python",
   "name": "python",
   "nbconvert_exporter": "python",
   "pygments_lexer": "ipython2",
   "version": "2.7.6"
  }
 },
 "nbformat": 4,
 "nbformat_minor": 5
}
