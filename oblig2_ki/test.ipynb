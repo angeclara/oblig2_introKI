{
 "cells": [
  {
   "cell_type": "code",
   "execution_count": 2,
   "id": "e3bd00c5",
   "metadata": {},
   "outputs": [
    {
     "name": "stdout",
     "output_type": "stream",
     "text": [
      "Modellens ytelse:\n",
      "Prediction Accuracy Score (R²): -0.00\n",
      "Mean Absolute Error (MAE): 6.23\n",
      "Mean Squared Error (MSE): 64.74\n",
      "Antall passasjerer for datoen 01/01/2025: 30\n"
     ]
    },
    {
     "name": "stderr",
     "output_type": "stream",
     "text": [
      "C:\\Users\\saida\\AppData\\Local\\Temp\\ipykernel_25580\\3505314286.py:25: SettingWithCopyWarning: \n",
      "A value is trying to be set on a copy of a slice from a DataFrame.\n",
      "Try using .loc[row_indexer,col_indexer] = value instead\n",
      "\n",
      "See the caveats in the documentation: https://pandas.pydata.org/pandas-docs/stable/user_guide/indexing.html#returning-a-view-versus-a-copy\n",
      "  bus_df['Dato_Numeric'] = bus_df['Dato'].apply(convert_date_to_numeric)\n"
     ]
    }
   ],
   "source": [
    "\n",
    "import pandas as pd\n",
    "import numpy as np\n",
    "from sklearn.model_selection import train_test_split\n",
    "from sklearn.linear_model import LinearRegression\n",
    "from sklearn.metrics import r2_score, mean_absolute_error, mean_squared_error\n",
    "from datetime import datetime\n",
    "\n",
    "\n",
    "\n",
    "# Last inn datasettet\n",
    "df = pd.read_csv('Ruter_data.csv', sep=';', encoding='utf-8', on_bad_lines='skip')\n",
    "\n",
    "# ------ cleaning and filterng the dataset \n",
    "# Fjern rader med manglende verdier i nødvendige kolonner\n",
    "df = df.dropna(subset=['Passasjerer_Ombord', 'Dato', 'Linjenavn'])\n",
    "\n",
    "# Filtrer for en spesifikk busslinje (f.eks. linje 100)\n",
    "bus_df = df[df['Linjenavn'] == '100']\n",
    "\n",
    "def convert_date_to_numeric(date_str):\n",
    "    base_date = datetime.strptime(\"01/01/2000\", \"%d/%m/%Y\")  # Referansedato\n",
    "    current_date = datetime.strptime(date_str, \"%d/%m/%Y\")  # Konverter dato fra datasettet\n",
    "    return (current_date - base_date).days  # Forskjell i dager\n",
    "\n",
    "bus_df['Dato_Numeric'] = bus_df['Dato'].apply(convert_date_to_numeric)\n",
    "\n",
    "# -- -------- training the model \n",
    "\n",
    "X = bus_df[['Dato_Numeric']]  # Funksjon: numerisk dato\n",
    "y = bus_df['Passasjerer_Ombord']  # Målvariabel: antall passasjerer\n",
    "\n",
    "X_train, X_test, y_train, y_test = train_test_split(X, y, test_size=0.2, random_state=42)\n",
    "\n",
    "model = LinearRegression()\n",
    "model.fit(X_train, y_train)\n",
    "\n",
    "# Gjør prediksjoner på testsettet\n",
    "y_pred = model.predict(X_test)\n",
    "\n",
    "# Evaluer modellen\n",
    "r2 = r2_score(y_test, y_pred)  # Prediction Accuracy Score\n",
    "mae = mean_absolute_error(y_test, y_pred)\n",
    "mse = mean_squared_error(y_test, y_pred)\n",
    "\n",
    "# Print ytelse\n",
    "print(\"Modellens ytelse:\")\n",
    "print(f\"Prediction Accuracy Score (R²): {r2:.2f}\")\n",
    "print(f\"Mean Absolute Error (MAE): {mae:.2f}\")\n",
    "print(f\"Mean Squared Error (MSE): {mse:.2f}\")\n",
    "\n",
    "# Test prediksjon for en spesifikk dato\n",
    "test_date = \"01/01/2025\"  # Velg en dato\n",
    "test_date_numeric = convert_date_to_numeric(test_date)\n",
    "\n",
    "# Konverter testdato til en DataFrame for å unngå advarsel\n",
    "test_date_df = pd.DataFrame([[test_date_numeric]], columns=['Dato_Numeric'])\n",
    "\n",
    "predicted_passengers = model.predict(test_date_df)\n",
    "print(f\"Antall passasjerer for datoen {test_date}: {predicted_passengers[0]:.0f}\")"
   ]
  }
 ],
 "metadata": {
  "kernelspec": {
   "display_name": "Python 3",
   "language": "python",
   "name": "python3"
  },
  "language_info": {
   "codemirror_mode": {
    "name": "ipython",
    "version": 3
   },
   "file_extension": ".py",
   "mimetype": "text/x-python",
   "name": "python",
   "nbconvert_exporter": "python",
   "pygments_lexer": "ipython3",
   "version": "3.13.8"
  }
 },
 "nbformat": 4,
 "nbformat_minor": 5
}
